{
 "cells": [
  {
   "cell_type": "markdown",
   "id": "036d462e",
   "metadata": {},
   "source": [
    "### 1. Import lib"
   ]
  },
  {
   "cell_type": "code",
   "execution_count": 1,
   "id": "d45fadeb",
   "metadata": {},
   "outputs": [],
   "source": [
    "import yaml\n",
    "import pandas as pd\n",
    "\n",
    "from sqlalchemy import create_engine\n",
    "from sqlalchemy.engine.base import Connection\n",
    "from datetime import datetime, timedelta\n",
    "from pytz import timezone"
   ]
  },
  {
   "cell_type": "markdown",
   "id": "c2de5680",
   "metadata": {},
   "source": [
    "### 2. Help functions"
   ]
  },
  {
   "cell_type": "code",
   "execution_count": 2,
   "id": "f1fd2940",
   "metadata": {},
   "outputs": [],
   "source": [
    "\n",
    "# Function load data\n",
    "def read_data (url:str) -> pd.DataFrame:\n",
    "    return pd.read_csv(url, sep='|')\n",
    "\n",
    "# Function transform data\n",
    "def clean_data(df: pd.DataFrame, last_report_dt: str) -> pd.DataFrame:\n",
    "    \"\"\"\n",
    "    Clean the DataFrame by removing unnecessary columns and renaming others.\n",
    "    \"\"\"\n",
    "    # Rename columns\n",
    "    df = df.rename(columns={'ReportDt':'report_dt', 'Unit':'unit', 'Power':'power'})\n",
    "\n",
    "    # Alter types of columns\n",
    "    df['power'] = df['power'].astype(int)\n",
    "\n",
    "    # Remoce sapce and lower case\n",
    "    df['unit'] = df['unit'].apply(lambda x: x.strip().lower().replace(' ','_') )\n",
    "\n",
    "    # Format date of column report_dt\n",
    "    df['report_dt'] = pd.to_datetime( df['report_dt'].apply(lambda x: x.split(' ')[0]), format='%m/%d/%Y' )\n",
    "\n",
    "    return df[ df['report_dt'] > last_report_dt ].reset_index(drop=True)\n",
    "\n",
    "\n",
    "# Get the last ingestion date\n",
    "def get_ingestion_date(con:Connection) -> str:\n",
    "    last_report_dt = con.exec_driver_sql('select max(report_dt) from reactor_status').fetchone()[0]\n",
    "    last_report_dt = last_report_dt.strftime(\"%Y-%m-%d\")\n",
    "\n",
    "    return last_report_dt"
   ]
  },
  {
   "cell_type": "markdown",
   "id": "52d8f499",
   "metadata": {},
   "source": [
    "### 3. DB Conection"
   ]
  },
  {
   "cell_type": "code",
   "execution_count": 3,
   "id": "deb42a8e",
   "metadata": {},
   "outputs": [],
   "source": [
    "# Load the YAML configuration file\n",
    "with open('/home/las/Documentos/repos/projeto_airflow/config.yaml', \"r\") as file:\n",
    "    config = yaml.safe_load(file)\n",
    "\n",
    "# Extract database connection details from the config\n",
    "host = config[\"database\"][\"host\"]\n",
    "db = config[\"database\"][\"db\"]\n",
    "user = config[\"database\"][\"user\"]\n",
    "password = config[\"database\"][\"password\"]\n",
    "\n",
    "# conection string\n",
    "conn = f'postgresql://{user}:{password}@{host}.oregon-postgres.render.com/{db}'\n",
    "\n",
    "# create engine\n",
    "engine = create_engine(conn)\n",
    "\n",
    "# create connection\n",
    "con = engine.connect()\n"
   ]
  },
  {
   "cell_type": "markdown",
   "id": "d645a94c",
   "metadata": {},
   "source": [
    "### 4. Loading data"
   ]
  },
  {
   "cell_type": "code",
   "execution_count": null,
   "id": "50e24844",
   "metadata": {},
   "outputs": [
    {
     "data": {
      "text/html": [
       "<div>\n",
       "<style scoped>\n",
       "    .dataframe tbody tr th:only-of-type {\n",
       "        vertical-align: middle;\n",
       "    }\n",
       "\n",
       "    .dataframe tbody tr th {\n",
       "        vertical-align: top;\n",
       "    }\n",
       "\n",
       "    .dataframe thead th {\n",
       "        text-align: right;\n",
       "    }\n",
       "</style>\n",
       "<table border=\"1\" class=\"dataframe\">\n",
       "  <thead>\n",
       "    <tr style=\"text-align: right;\">\n",
       "      <th></th>\n",
       "      <th>ReportDt</th>\n",
       "      <th>Unit</th>\n",
       "      <th>Power</th>\n",
       "    </tr>\n",
       "  </thead>\n",
       "  <tbody>\n",
       "    <tr>\n",
       "      <th>0</th>\n",
       "      <td>5/23/2025 12:00:00 AM</td>\n",
       "      <td>Arkansas Nuclear 1</td>\n",
       "      <td>100</td>\n",
       "    </tr>\n",
       "    <tr>\n",
       "      <th>1</th>\n",
       "      <td>5/23/2025 12:00:00 AM</td>\n",
       "      <td>Arkansas Nuclear 2</td>\n",
       "      <td>100</td>\n",
       "    </tr>\n",
       "    <tr>\n",
       "      <th>2</th>\n",
       "      <td>5/23/2025 12:00:00 AM</td>\n",
       "      <td>Beaver Valley 1</td>\n",
       "      <td>100</td>\n",
       "    </tr>\n",
       "    <tr>\n",
       "      <th>3</th>\n",
       "      <td>5/23/2025 12:00:00 AM</td>\n",
       "      <td>Beaver Valley 2</td>\n",
       "      <td>99</td>\n",
       "    </tr>\n",
       "    <tr>\n",
       "      <th>4</th>\n",
       "      <td>5/23/2025 12:00:00 AM</td>\n",
       "      <td>Braidwood 1</td>\n",
       "      <td>100</td>\n",
       "    </tr>\n",
       "  </tbody>\n",
       "</table>\n",
       "</div>"
      ],
      "text/plain": [
       "                ReportDt                Unit  Power\n",
       "0  5/23/2025 12:00:00 AM  Arkansas Nuclear 1    100\n",
       "1  5/23/2025 12:00:00 AM  Arkansas Nuclear 2    100\n",
       "2  5/23/2025 12:00:00 AM     Beaver Valley 1    100\n",
       "3  5/23/2025 12:00:00 AM     Beaver Valley 2     99\n",
       "4  5/23/2025 12:00:00 AM         Braidwood 1    100"
      ]
     },
     "execution_count": 4,
     "metadata": {},
     "output_type": "execute_result"
    }
   ],
   "source": [
    "url = 'https://www.nrc.gov/reading-rm/doc-collections/event-status/reactor-status/powerreactorstatusforlast365days.txt'\n",
    "df = read_data(url=url)\n",
    "df.head()"
   ]
  },
  {
   "cell_type": "markdown",
   "id": "aa9115ef",
   "metadata": {},
   "source": [
    "### 5. Transform data"
   ]
  },
  {
   "cell_type": "code",
   "execution_count": 5,
   "id": "754995ab",
   "metadata": {},
   "outputs": [
    {
     "data": {
      "text/html": [
       "<div>\n",
       "<style scoped>\n",
       "    .dataframe tbody tr th:only-of-type {\n",
       "        vertical-align: middle;\n",
       "    }\n",
       "\n",
       "    .dataframe tbody tr th {\n",
       "        vertical-align: top;\n",
       "    }\n",
       "\n",
       "    .dataframe thead th {\n",
       "        text-align: right;\n",
       "    }\n",
       "</style>\n",
       "<table border=\"1\" class=\"dataframe\">\n",
       "  <thead>\n",
       "    <tr style=\"text-align: right;\">\n",
       "      <th></th>\n",
       "      <th>report_dt</th>\n",
       "      <th>unit</th>\n",
       "      <th>power</th>\n",
       "    </tr>\n",
       "  </thead>\n",
       "  <tbody>\n",
       "    <tr>\n",
       "      <th>0</th>\n",
       "      <td>2025-05-23</td>\n",
       "      <td>arkansas_nuclear_1</td>\n",
       "      <td>100</td>\n",
       "    </tr>\n",
       "    <tr>\n",
       "      <th>1</th>\n",
       "      <td>2025-05-23</td>\n",
       "      <td>arkansas_nuclear_2</td>\n",
       "      <td>100</td>\n",
       "    </tr>\n",
       "    <tr>\n",
       "      <th>2</th>\n",
       "      <td>2025-05-23</td>\n",
       "      <td>beaver_valley_1</td>\n",
       "      <td>100</td>\n",
       "    </tr>\n",
       "    <tr>\n",
       "      <th>3</th>\n",
       "      <td>2025-05-23</td>\n",
       "      <td>beaver_valley_2</td>\n",
       "      <td>99</td>\n",
       "    </tr>\n",
       "    <tr>\n",
       "      <th>4</th>\n",
       "      <td>2025-05-23</td>\n",
       "      <td>braidwood_1</td>\n",
       "      <td>100</td>\n",
       "    </tr>\n",
       "  </tbody>\n",
       "</table>\n",
       "</div>"
      ],
      "text/plain": [
       "   report_dt                unit  power\n",
       "0 2025-05-23  arkansas_nuclear_1    100\n",
       "1 2025-05-23  arkansas_nuclear_2    100\n",
       "2 2025-05-23     beaver_valley_1    100\n",
       "3 2025-05-23     beaver_valley_2     99\n",
       "4 2025-05-23         braidwood_1    100"
      ]
     },
     "execution_count": 5,
     "metadata": {},
     "output_type": "execute_result"
    }
   ],
   "source": [
    "last_report_dt = get_ingestion_date(con=con)\n",
    "df = clean_data(df=df, last_report_dt=last_report_dt)\n",
    "df.head()"
   ]
  },
  {
   "cell_type": "code",
   "execution_count": 8,
   "id": "86ac1f19",
   "metadata": {},
   "outputs": [
    {
     "data": {
      "text/plain": [
       "(282, 3)"
      ]
     },
     "execution_count": 8,
     "metadata": {},
     "output_type": "execute_result"
    }
   ],
   "source": [
    "df.shape"
   ]
  },
  {
   "cell_type": "code",
   "execution_count": 7,
   "id": "c3662cbe",
   "metadata": {},
   "outputs": [
    {
     "data": {
      "text/plain": [
       "Timestamp('2025-05-23 00:00:00')"
      ]
     },
     "execution_count": 7,
     "metadata": {},
     "output_type": "execute_result"
    }
   ],
   "source": [
    "df.report_dt.max()"
   ]
  },
  {
   "cell_type": "code",
   "execution_count": 8,
   "id": "ce3d8221",
   "metadata": {},
   "outputs": [
    {
     "data": {
      "text/plain": [
       "(34028, 3)"
      ]
     },
     "execution_count": 8,
     "metadata": {},
     "output_type": "execute_result"
    }
   ],
   "source": [
    "df2 = df[ df['report_dt'] <= '2025-05-20' ].reset_index(drop=True)\n",
    "df2.shape"
   ]
  },
  {
   "cell_type": "code",
   "execution_count": 13,
   "id": "a31ebbaf",
   "metadata": {},
   "outputs": [
    {
     "data": {
      "text/plain": [
       "28"
      ]
     },
     "execution_count": 13,
     "metadata": {},
     "output_type": "execute_result"
    }
   ],
   "source": [
    "df2.to_sql(\n",
    "    'reactor_status',\n",
    "    schema='public',\n",
    "    con=con,\n",
    "    if_exists='replace',\n",
    "    index=False,\n",
    ")"
   ]
  },
  {
   "cell_type": "code",
   "execution_count": 14,
   "id": "298b25ac",
   "metadata": {},
   "outputs": [
    {
     "data": {
      "text/plain": [
       "34028"
      ]
     },
     "execution_count": 14,
     "metadata": {},
     "output_type": "execute_result"
    }
   ],
   "source": [
    "con.exec_driver_sql('select count(*) from reactor_status').fetchone()[0]"
   ]
  },
  {
   "cell_type": "code",
   "execution_count": null,
   "id": "c2bcc41c",
   "metadata": {},
   "outputs": [
    {
     "data": {
      "text/plain": [
       "'2025-05-23'"
      ]
     },
     "execution_count": 22,
     "metadata": {},
     "output_type": "execute_result"
    }
   ],
   "source": [
    "\n",
    "\n",
    "get_ingestion_date(con=con)"
   ]
  },
  {
   "cell_type": "code",
   "execution_count": null,
   "id": "267ac047",
   "metadata": {},
   "outputs": [],
   "source": []
  },
  {
   "cell_type": "code",
   "execution_count": 16,
   "id": "a548670e",
   "metadata": {},
   "outputs": [
    {
     "data": {
      "text/plain": [
       "(282, 3)"
      ]
     },
     "execution_count": 16,
     "metadata": {},
     "output_type": "execute_result"
    }
   ],
   "source": [
    "df3 = df[ df['report_dt'] > last_report_dt ].reset_index(drop=True)\n",
    "df3.shape"
   ]
  },
  {
   "cell_type": "code",
   "execution_count": 17,
   "id": "b0bf3cc5",
   "metadata": {},
   "outputs": [
    {
     "data": {
      "text/plain": [
       "282"
      ]
     },
     "execution_count": 17,
     "metadata": {},
     "output_type": "execute_result"
    }
   ],
   "source": [
    "df3.to_sql(\n",
    "    'reactor_status',\n",
    "    schema='public',\n",
    "    con=con,\n",
    "    if_exists='append',\n",
    "    index=False,\n",
    ")"
   ]
  },
  {
   "cell_type": "code",
   "execution_count": 18,
   "id": "f21aff70",
   "metadata": {},
   "outputs": [
    {
     "data": {
      "text/plain": [
       "34310"
      ]
     },
     "execution_count": 18,
     "metadata": {},
     "output_type": "execute_result"
    }
   ],
   "source": [
    "34028 + 282"
   ]
  },
  {
   "cell_type": "code",
   "execution_count": 19,
   "id": "cf1da956",
   "metadata": {},
   "outputs": [
    {
     "data": {
      "text/plain": [
       "34310"
      ]
     },
     "execution_count": 19,
     "metadata": {},
     "output_type": "execute_result"
    }
   ],
   "source": [
    "con.exec_driver_sql('select count(*) from reactor_status').fetchone()[0]"
   ]
  },
  {
   "cell_type": "code",
   "execution_count": null,
   "id": "36bea159",
   "metadata": {},
   "outputs": [],
   "source": []
  },
  {
   "cell_type": "code",
   "execution_count": null,
   "id": "9d897695",
   "metadata": {},
   "outputs": [],
   "source": [
    "con.exec_driver_sql(\n",
    "    \"\"\"\n",
    "    CREATE TABLE IF NOT EXISTS reactor_status (\n",
    "        report_dt DATE,\n",
    "        unit VARCHAR(50),\n",
    "        power INT\n",
    "    )\n",
    "    \"\"\"\n",
    ")\n",
    "# Insert the DataFrame into the database    \n",
    "df.to_sql('reactor_status', con, if_exists='append', index=False)\n",
    "# Close the connection\n",
    "con.close()\n",
    "# Close the engine\n",
    "engine.dispose()\n"
   ]
  },
  {
   "cell_type": "code",
   "execution_count": 35,
   "id": "2de700c2",
   "metadata": {},
   "outputs": [],
   "source": [
    "con.close()\n",
    "engine.dispose()"
   ]
  }
 ],
 "metadata": {
  "kernelspec": {
   "display_name": "env",
   "language": "python",
   "name": "python3"
  },
  "language_info": {
   "codemirror_mode": {
    "name": "ipython",
    "version": 3
   },
   "file_extension": ".py",
   "mimetype": "text/x-python",
   "name": "python",
   "nbconvert_exporter": "python",
   "pygments_lexer": "ipython3",
   "version": "3.11.9"
  }
 },
 "nbformat": 4,
 "nbformat_minor": 5
}
