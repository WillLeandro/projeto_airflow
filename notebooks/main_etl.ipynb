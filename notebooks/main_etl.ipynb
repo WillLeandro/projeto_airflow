{
 "cells": [
  {
   "cell_type": "markdown",
   "id": "036d462e",
   "metadata": {},
   "source": [
    "### 1. Import lib"
   ]
  },
  {
   "cell_type": "code",
   "execution_count": 9,
   "id": "d45fadeb",
   "metadata": {},
   "outputs": [],
   "source": [
    "import yaml\n",
    "import pandas as pd\n",
    "\n",
    "from sqlalchemy import create_engine"
   ]
  },
  {
   "cell_type": "markdown",
   "id": "c2de5680",
   "metadata": {},
   "source": [
    "### 2. Help functions"
   ]
  },
  {
   "cell_type": "code",
   "execution_count": 30,
   "id": "f1fd2940",
   "metadata": {},
   "outputs": [],
   "source": [
    "\n",
    "# Function load data\n",
    "def read_data (url:str) -> pd.DataFrame:\n",
    "    return pd.read_csv(url, sep='|')\n",
    "\n",
    "# Function transform data\n",
    "def clean_data(df: pd.DataFrame) -> pd.DataFrame:\n",
    "    \"\"\"\n",
    "    Clean the DataFrame by removing unnecessary columns and renaming others.\n",
    "    \"\"\"\n",
    "    # Rename columns\n",
    "    df = df.rename(columns={'ReportDt':'report_dt', 'Unit':'unit', 'Power':'power'})\n",
    "\n",
    "    # Alter types of columns\n",
    "    df['power'] = df['power'].astype(int)\n",
    "\n",
    "    # Remoce sapce and lower case\n",
    "    df['unit'] = df['unit'].apply(lambda x: x.strip().lower().replace(' ','_') )\n",
    "\n",
    "    # Format date of column report_dt\n",
    "    df['report_dt'] = pd.to_datetime( df['report_dt'].apply(lambda x: x.split(' ')[0]), format='%m/%d/%Y' )\n",
    "\n",
    "    return df"
   ]
  },
  {
   "cell_type": "markdown",
   "id": "52d8f499",
   "metadata": {},
   "source": [
    "### 3. DB Conection"
   ]
  },
  {
   "cell_type": "code",
   "execution_count": 10,
   "id": "deb42a8e",
   "metadata": {},
   "outputs": [],
   "source": [
    "# Load the YAML configuration file\n",
    "with open('/home/las/Documentos/repos/projeto_airflow/config.yaml', \"r\") as file:\n",
    "    config = yaml.safe_load(file)\n",
    "\n",
    "# Extract database connection details from the config\n",
    "host = config[\"database\"][\"host\"]\n",
    "db = config[\"database\"][\"db\"]\n",
    "user = config[\"database\"][\"user\"]\n",
    "password = config[\"database\"][\"password\"]\n",
    "\n",
    "# conection string\n",
    "conn = f'postgresql://{user}:{password}@{host}.oregon-postgres.render.com/{db}'\n",
    "\n",
    "# create engine\n",
    "engine = create_engine(conn)\n",
    "\n",
    "# create connection\n",
    "con = engine.connect()\n"
   ]
  },
  {
   "cell_type": "markdown",
   "id": "d645a94c",
   "metadata": {},
   "source": [
    "### 4. Loading data"
   ]
  },
  {
   "cell_type": "code",
   "execution_count": 32,
   "id": "50e24844",
   "metadata": {},
   "outputs": [
    {
     "data": {
      "text/html": [
       "<div>\n",
       "<style scoped>\n",
       "    .dataframe tbody tr th:only-of-type {\n",
       "        vertical-align: middle;\n",
       "    }\n",
       "\n",
       "    .dataframe tbody tr th {\n",
       "        vertical-align: top;\n",
       "    }\n",
       "\n",
       "    .dataframe thead th {\n",
       "        text-align: right;\n",
       "    }\n",
       "</style>\n",
       "<table border=\"1\" class=\"dataframe\">\n",
       "  <thead>\n",
       "    <tr style=\"text-align: right;\">\n",
       "      <th></th>\n",
       "      <th>ReportDt</th>\n",
       "      <th>Unit</th>\n",
       "      <th>Power</th>\n",
       "    </tr>\n",
       "  </thead>\n",
       "  <tbody>\n",
       "    <tr>\n",
       "      <th>0</th>\n",
       "      <td>5/22/2025 12:00:00 AM</td>\n",
       "      <td>Arkansas Nuclear 1</td>\n",
       "      <td>100</td>\n",
       "    </tr>\n",
       "    <tr>\n",
       "      <th>1</th>\n",
       "      <td>5/22/2025 12:00:00 AM</td>\n",
       "      <td>Arkansas Nuclear 2</td>\n",
       "      <td>100</td>\n",
       "    </tr>\n",
       "    <tr>\n",
       "      <th>2</th>\n",
       "      <td>5/22/2025 12:00:00 AM</td>\n",
       "      <td>Beaver Valley 1</td>\n",
       "      <td>100</td>\n",
       "    </tr>\n",
       "    <tr>\n",
       "      <th>3</th>\n",
       "      <td>5/22/2025 12:00:00 AM</td>\n",
       "      <td>Beaver Valley 2</td>\n",
       "      <td>99</td>\n",
       "    </tr>\n",
       "    <tr>\n",
       "      <th>4</th>\n",
       "      <td>5/22/2025 12:00:00 AM</td>\n",
       "      <td>Braidwood 1</td>\n",
       "      <td>100</td>\n",
       "    </tr>\n",
       "  </tbody>\n",
       "</table>\n",
       "</div>"
      ],
      "text/plain": [
       "                ReportDt                Unit  Power\n",
       "0  5/22/2025 12:00:00 AM  Arkansas Nuclear 1    100\n",
       "1  5/22/2025 12:00:00 AM  Arkansas Nuclear 2    100\n",
       "2  5/22/2025 12:00:00 AM     Beaver Valley 1    100\n",
       "3  5/22/2025 12:00:00 AM     Beaver Valley 2     99\n",
       "4  5/22/2025 12:00:00 AM         Braidwood 1    100"
      ]
     },
     "execution_count": 32,
     "metadata": {},
     "output_type": "execute_result"
    }
   ],
   "source": [
    "url = 'https://www.nrc.gov/reading-rm/doc-collections/event-status/reactor-status/powerreactorstatusforlast365days.txt'\n",
    "df = read_data(url)\n",
    "df.head()"
   ]
  },
  {
   "cell_type": "markdown",
   "id": "aa9115ef",
   "metadata": {},
   "source": [
    "### 5. Transform data"
   ]
  },
  {
   "cell_type": "code",
   "execution_count": 33,
   "id": "754995ab",
   "metadata": {},
   "outputs": [
    {
     "data": {
      "text/html": [
       "<div>\n",
       "<style scoped>\n",
       "    .dataframe tbody tr th:only-of-type {\n",
       "        vertical-align: middle;\n",
       "    }\n",
       "\n",
       "    .dataframe tbody tr th {\n",
       "        vertical-align: top;\n",
       "    }\n",
       "\n",
       "    .dataframe thead th {\n",
       "        text-align: right;\n",
       "    }\n",
       "</style>\n",
       "<table border=\"1\" class=\"dataframe\">\n",
       "  <thead>\n",
       "    <tr style=\"text-align: right;\">\n",
       "      <th></th>\n",
       "      <th>report_dt</th>\n",
       "      <th>unit</th>\n",
       "      <th>power</th>\n",
       "    </tr>\n",
       "  </thead>\n",
       "  <tbody>\n",
       "    <tr>\n",
       "      <th>0</th>\n",
       "      <td>2025-05-22</td>\n",
       "      <td>arkansas_nuclear_1</td>\n",
       "      <td>100</td>\n",
       "    </tr>\n",
       "    <tr>\n",
       "      <th>1</th>\n",
       "      <td>2025-05-22</td>\n",
       "      <td>arkansas_nuclear_2</td>\n",
       "      <td>100</td>\n",
       "    </tr>\n",
       "    <tr>\n",
       "      <th>2</th>\n",
       "      <td>2025-05-22</td>\n",
       "      <td>beaver_valley_1</td>\n",
       "      <td>100</td>\n",
       "    </tr>\n",
       "    <tr>\n",
       "      <th>3</th>\n",
       "      <td>2025-05-22</td>\n",
       "      <td>beaver_valley_2</td>\n",
       "      <td>99</td>\n",
       "    </tr>\n",
       "    <tr>\n",
       "      <th>4</th>\n",
       "      <td>2025-05-22</td>\n",
       "      <td>braidwood_1</td>\n",
       "      <td>100</td>\n",
       "    </tr>\n",
       "  </tbody>\n",
       "</table>\n",
       "</div>"
      ],
      "text/plain": [
       "   report_dt                unit  power\n",
       "0 2025-05-22  arkansas_nuclear_1    100\n",
       "1 2025-05-22  arkansas_nuclear_2    100\n",
       "2 2025-05-22     beaver_valley_1    100\n",
       "3 2025-05-22     beaver_valley_2     99\n",
       "4 2025-05-22         braidwood_1    100"
      ]
     },
     "execution_count": 33,
     "metadata": {},
     "output_type": "execute_result"
    }
   ],
   "source": [
    "df = clean_data(df)\n",
    "df.head()"
   ]
  },
  {
   "cell_type": "code",
   "execution_count": null,
   "id": "5a3f41ac",
   "metadata": {},
   "outputs": [],
   "source": []
  },
  {
   "cell_type": "code",
   "execution_count": null,
   "id": "86ac1f19",
   "metadata": {},
   "outputs": [],
   "source": []
  },
  {
   "cell_type": "code",
   "execution_count": null,
   "id": "9d897695",
   "metadata": {},
   "outputs": [],
   "source": []
  },
  {
   "cell_type": "code",
   "execution_count": 35,
   "id": "2de700c2",
   "metadata": {},
   "outputs": [],
   "source": [
    "con.close()\n",
    "engine.dispose()"
   ]
  }
 ],
 "metadata": {
  "kernelspec": {
   "display_name": "env",
   "language": "python",
   "name": "python3"
  },
  "language_info": {
   "codemirror_mode": {
    "name": "ipython",
    "version": 3
   },
   "file_extension": ".py",
   "mimetype": "text/x-python",
   "name": "python",
   "nbconvert_exporter": "python",
   "pygments_lexer": "ipython3",
   "version": "3.11.9"
  }
 },
 "nbformat": 4,
 "nbformat_minor": 5
}
